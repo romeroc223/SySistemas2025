{
  "cells": [
    {
      "cell_type": "markdown",
      "metadata": {
        "id": "view-in-github",
        "colab_type": "text"
      },
      "source": [
        "<a href=\"https://colab.research.google.com/github/romeroc223/SySistemas2025/blob/main/Parcial_1_SyS_2025_2.ipynb\" target=\"_parent\"><img src=\"https://colab.research.google.com/assets/colab-badge.svg\" alt=\"Open In Colab\"/></a>"
      ]
    },
    {
      "cell_type": "markdown",
      "source": [],
      "metadata": {
        "id": "B9oR9Upea91L"
      }
    },
    {
      "cell_type": "markdown",
      "source": [
        "# Parcial 1: Señales y Sistemas 2025-II\n",
        "\n",
        " ## Profesor: Andrés Marino Álvarez Meza, Ph.D.\n",
        "\n",
        "\n",
        "## Departamento de Ingeniería Eléctrica, Electrónica, y Computación\n",
        "## Universidad Nacional de Colombia - Sede Manizales"
      ],
      "metadata": {
        "id": "H_bHNxK2V_Xm"
      }
    },
    {
      "cell_type": "markdown",
      "source": [
        " **Instrucciones**\n",
        "\n",
        " -- Para recibir crédito total por sus respuestas, estas deben estar claramente justificadas e ilustrar sus procedimientos y razonamientos (paso a paso) de forma concreta, clara y completa.\n",
        "\n",
        "-- El parcial debe ser enviado al correo electrónico amalvarezme@unal.edu.co antes de las 23:59 del 11 de octubre de 2025, vía link de GitHub, con componentes teóricas de solución a mano en formato pdf y componentes de simulación en un cuaderno de Python.ipynb.\n",
        "\n",
        "-- Los códigos deben estar debidamente comentados y discuti\n",
        "dos en celdas de texto (markdown). Códigos no comentados ni discutidos, no serán contabilizados en la nota final."
      ],
      "metadata": {
        "id": "a6e9o3D0c8FZ"
      }
    },
    {
      "cell_type": "markdown",
      "source": [],
      "metadata": {
        "id": "wnOIOnqEe7EN"
      }
    },
    {
      "cell_type": "markdown",
      "source": [
        "# Pregunta 1\n",
        "La distancia media entre dos señales periódicas $x_1(t) ∈ R,C$ y $x_2(t) ∈ R,C;$  se puede expresar a partir de la potencia media de la diferencias entre ellas:\n",
        "$$\n",
        "d^{2}(x_{1},x_{2})=\\bar{P}_{x_{1}-x_{2}}=\\displaystyle \\lim_{T \\to \\infty }\\frac{1}{T}\\int_{T}^{}\\left | x_{1}(t)-x_{2}(t)\\right |^{2}dt\n",
        "$$\n",
        "Sean $x_{1}(t)$ y $x_{2}(t)$:\n",
        "$$\n",
        "x_{1}(t)=A\\,cos(\\omega _{0}t),\\quad\\omega _{0}=\\frac{2\\pi }{T},\\quad T,A \\in\\mathbb{R}^{+}\n",
        "$$\n",
        "\n",
        "$$\n",
        "x_{1}(t)=Ae^{-jnw_{0}t}\n",
        "$$\n",
        "\n",
        "$$\n",
        "x_{2}(t)=Be^{jmw_{0}t}\n",
        "$$\n",
        "\n",
        "con $w_{0}=\\frac{2\\pi }{T},\\quad T,A,B \\in\\mathbb{R}^{+}$ y $n, m ∈ R$ $Z$. Determine las distancias entre las dos señales. Compruebe sus resultados con Python."
      ],
      "metadata": {
        "id": "TmlafE03h_Wx"
      }
    },
    {
      "cell_type": "code",
      "source": [
        "import numpy as np\n",
        "import matplotlib.pyplot as plt\n",
        "\n",
        "# Parámetros\n",
        "A = 2\n",
        "B = 3\n",
        "T0 = 2 * np.pi\n",
        "w0 = 2 * np.pi / T0\n",
        "n = 2\n",
        "m = -3   # Puedes probar con otros valores para ver cómo cambia (n+m) = 0 constante de lo contrario oscila\n",
        "\n",
        "# Tiempo largo para aproximar promedio\n",
        "t = np.linspace(0, 50 * T0, 10000)\n",
        "\n",
        "# Señales complejas\n",
        "x1 = A * np.exp(-1j * n * w0 * t)\n",
        "x2 = B * np.exp(1j * m * w0 * t)\n",
        "\n",
        "# Diferencia y módulo al cuadrado\n",
        "diff = x1 - x2\n",
        "energy = np.abs(diff)**2\n",
        "d2 = np.mean(energy)\n",
        "\n",
        "# Mostrar resultado numérico\n",
        "print(f\"Distancia cuadrática media d² = {d2:.4f}\")\n",
        "\n",
        "# Visualización\n",
        "plt.figure(figsize=(10, 5))\n",
        "plt.plot(t, energy, label='|x1(t) - x2(t)|²', color='royalblue')\n",
        "plt.axhline(y=d2, color='red', linestyle='--', label=f'Promedio = {d2:.2f}')\n",
        "plt.title('Energía Instantánea de la Diferencia de las Señales')\n",
        "plt.xlabel('Tiempo')\n",
        "plt.ylabel('Energía')\n",
        "plt.grid(True)\n",
        "plt.legend()\n",
        "plt.show()\n",
        "\n"
      ],
      "metadata": {
        "id": "cIFr3RCPrwM-"
      },
      "execution_count": null,
      "outputs": []
    },
    {
      "cell_type": "markdown",
      "source": [
        "# Pregunta 2\n",
        "Encuentre la señal en tiempo discreto al utilizar un conversor análogo digital con frecuencia de muestreo de $5kHz$ y $4$ bits de capacidad de representación, aplicado a la señal continua:\n",
        "\n",
        "$x(t) = 3\\cos(1000πt) + 5\\sin(3000πt) + 10\\cos(11000πt)?$.\n",
        "\n",
        "Realizar la simulación del proceso de discretización (incluyendo al menos tres periodos de $x(t)$). En caso de que la discretización no sea apropiada, diseñe e implemente un conversor adecuado para la señal estudiada."
      ],
      "metadata": {
        "id": "OG5PPtJ1sJ3Y"
      }
    },
    {
      "cell_type": "code",
      "source": [
        "import numpy as np\n",
        "import matplotlib.pyplot as plt\n",
        "\n",
        "# Parámetros de la señal\n",
        "Fs = 5000  # Frecuencia de muestreo (Hz)\n",
        "t = np.linspace(0, 0.01, 1000)  # Tiempo continuo (10 ms)\n",
        "\n",
        "# Frecuencias angulares continuas\n",
        "w1 = 1000 * np.pi\n",
        "w2 = 3000 * np.pi\n",
        "w3 = 11000 * np.pi\n",
        "\n",
        "# Señal continua\n",
        "x_t = 3 * np.cos(w1 * t) + 5 * np.sin(w2 * t) + 10 * np.cos(w3 * t)\n",
        "\n",
        "# Señal discretizada\n",
        "N = 50  # Número de muestras\n",
        "n = np.arange(N)\n",
        "\n",
        "# Frecuencias angulares normalizadas (Omega = w / Fs)\n",
        "Omega1 = w1 / Fs\n",
        "Omega2 = w2 / Fs\n",
        "Omega3 = w3 / Fs\n",
        "\n",
        "# Aliasing: llevar Omega3 al intervalo [-pi, pi]\n",
        "if Omega3 > np.pi:\n",
        "    Omega3_alias = Omega3 - 2*np.pi\n",
        "else:\n",
        "    Omega3_alias = Omega3\n",
        "\n",
        "# Mostrar frecuencias normalizadas antes y después de aliasing\n",
        "print(f\"Ω1 = {Omega1:.2f} rad/muestra\")\n",
        "print(f\"Ω2 = {Omega2:.2f} rad/muestra\")\n",
        "print(f\"Ω3 antes de aliasing = {Omega3:.2f} rad/muestra\")\n",
        "print(f\"Ω3 después de aliasing = {Omega3_alias:.2f} rad/muestra\")\n",
        "\n",
        "# Señal discretizada después de aliasing\n",
        "x_n = (13) * np.cos(Omega1 * n) + 5 * np.sin(Omega2 * n)\n",
        "\n",
        "# Graficar señal continua y discretizada\n",
        "plt.figure(figsize=(14, 6))\n",
        "\n",
        "# Señal continua\n",
        "plt.subplot(2, 1, 1)\n",
        "plt.plot(t*1000, x_t, label='Señal continua $x(t)$', color='orange')\n",
        "plt.title('Señal continua original')\n",
        "plt.xlabel('Tiempo (ms)')\n",
        "plt.ylabel('Amplitud')\n",
        "plt.grid(True)\n",
        "plt.legend()\n",
        "\n",
        "# Señal discretizada\n",
        "plt.subplot(2, 1, 2)\n",
        "plt.stem(n, x_n, basefmt=\" \", label='Señal discretizada $x[n]$', linefmt='orange', markerfmt='o')\n",
        "plt.title('Señal discretizada (con de aliasing)')\n",
        "plt.xlabel('Muestra n')\n",
        "plt.ylabel('Amplitud')\n",
        "plt.grid(True)\n",
        "plt.legend()\n",
        "\n",
        "plt.tight_layout()\n",
        "plt.show()"
      ],
      "metadata": {
        "id": "kqlHdpdN19yG"
      },
      "execution_count": null,
      "outputs": []
    },
    {
      "cell_type": "code",
      "source": [
        "import numpy as np\n",
        "import matplotlib.pyplot as plt\n",
        "\n",
        "# Parámetros de la señal\n",
        "A1, A2, A3 = 3, 5, 10\n",
        "w1 = 1000 * np.pi   # 500 Hz\n",
        "w2 = 3000 * np.pi   # 1500 Hz\n",
        "w3 = 11000 * np.pi  # 5500 Hz\n",
        "\n",
        "# Intervalo de tiempo corto para visualización\n",
        "t_12k = np.arange(0, 0.005, 1/12000)\n",
        "\n",
        "# Señal muestreada a 12 kHz (sin componente de 5500 Hz por filtrado)\n",
        "x_12k = A1 * np.cos(w1 * t_12k) + A2 * np.sin(w2 * t_12k)\n",
        "\n",
        "# Graficar ambas señales\n",
        "plt.figure(figsize=(14, 6))\n",
        "\n",
        "plt.subplot(2,1,2)\n",
        "plt.stem(t_12k, x_12k, linefmt='b-', markerfmt='bo', basefmt='k-')\n",
        "plt.title('Señal muestreada a 12 kHz (SIN aliasing, con filtrado anti-aliasing)')\n",
        "plt.xlabel('Tiempo [s]')\n",
        "plt.ylabel('Amplitud')\n",
        "\n",
        "plt.tight_layout()\n",
        "plt.show()"
      ],
      "metadata": {
        "id": "9tuK_4oguVIC"
      },
      "execution_count": null,
      "outputs": []
    },
    {
      "cell_type": "markdown",
      "source": [
        "# Pregunta 3\n",
        "Sea $x′′(t)$ la segunda derivada de la señal $x(t)$, donde $t$ $∈$ $[ti, tf]$. Demuestre que los coeficientes de la serie exponencial de Fourier se pueden calcular según:\n",
        "$$\n",
        "c_{n}=\\frac{1}{(ti-tf)n^{2}w_{o}^{2}}\\int_{t_i}^{t_f}x^{''}(t)e^{-jnw_{o}t}dt;\\quad n\\in\\mathbb{Z}\n",
        "$$\n",
        "¿Cómo se pueden calcular los coeficientes an y bn desde $x′′(t)$ en la serie trigonométrica de Fourier?."
      ],
      "metadata": {
        "id": "kd5T4DxRvtnZ"
      }
    },
    {
      "cell_type": "markdown",
      "source": [],
      "metadata": {
        "id": "FSTGSvOTv4BQ"
      }
    },
    {
      "cell_type": "markdown",
      "source": [
        "# Pregunta 4\n",
        "\n",
        "Encuentre el espectro de Fourier, su parte real, imaginaria, magnitud, fase y el error relativo para $n∈{0,±1,±2,±3,±4,±5}$, a partir de $x′′(t)$ para la señal $x(t)$ en la Figura 1 . Compruebe el espectro obtenido con la estimación a partir de $x(t)$ y presente las respectivas simulaciones sobre Python."
      ],
      "metadata": {
        "id": "ZD_S1D0aXsl0"
      }
    },
    {
      "cell_type": "code",
      "source": [
        "import numpy as np\n",
        "import matplotlib.pyplot as plt\n",
        "\n",
        "# Parámetros\n",
        "A = 1\n",
        "T = 3\n",
        "d1 = T / 6\n",
        "d2 = T / 4\n",
        "w0 = 2 * np.pi / T\n",
        "N = 4096  # Mayor resolución\n",
        "\n",
        "# Puntos clave de la señal\n",
        "t_nodes = np.array([-T/2, -d2, -d1, 0, d1, d2, T/2])\n",
        "x_nodes = np.array([0, 0, A, 0, A, 0, 0])\n",
        "\n",
        "# Señal continua vía interpolación\n",
        "\n",
        "t = np.linspace(-T/2, T/2, N)\n",
        "x = np.interp(t, t_nodes, x_nodes)\n",
        "\n",
        "# Derivadas numéricas\n",
        "dx = np.gradient(x, t)\n",
        "ddx = np.gradient(dx, t)\n",
        "\n",
        "# Coeficientes desde x''(t)\n",
        "\n",
        "harmonics = np.arange(-5, 6)\n",
        "c_xx = []\n",
        "\n",
        "for n in harmonics:\n",
        "    if n == 0:\n",
        "        c_xx.append(0)\n",
        "    else:\n",
        "        integrand = ddx * np.exp(-1j * n * w0 * t)\n",
        "        cn = np.trapz(integrand, t) / (T * n**2 * w0**2)\n",
        "        c_xx.append(cn)\n",
        "\n",
        "c_xx = np.array(c_xx)\n",
        "\n",
        "# Coeficientes desde x(t) por FFT\n",
        "\n",
        "X = np.fft.fftshift(np.fft.fft(x)) / N\n",
        "f = np.fft.fftshift(np.fft.fftfreq(N, d=t[1]-t[0]))  # en Hz\n",
        "freqs_analiticas = harmonics * w0 / (2 * np.pi)\n",
        "idx = [np.argmin(np.abs(f - f0)) for f0 in freqs_analiticas]\n",
        "c_fft = X[idx]\n",
        "\n",
        "# Tabla comparativa\n",
        "\n",
        "print(f\"{'n':>3} | {'Re(c)':>10} | {'Im(c)':>10} | {'|c|':>10} | {'Fase':>8} | {'Error %':>10}\")\n",
        "print(\"-\" * 60)\n",
        "\n",
        "for i, n in enumerate(harmonics):\n",
        "    c1 = c_xx[i]\n",
        "    c2 = c_fft[i]\n",
        "    error = np.abs(c1 - c2) / (np.abs(c2) + 1e-12) * 100\n",
        "    print(f\"{n:3d} | {c1.real:10.4e} | {c1.imag:10.4e} | {np.abs(c1):10.4e} | {np.angle(c1):8.4f} | {error:10.2f}\")"
      ],
      "metadata": {
        "id": "fpKXAz3i3lrg"
      },
      "execution_count": null,
      "outputs": []
    },
    {
      "cell_type": "code",
      "source": [
        "# Espectro de magnitud\n",
        "plt.figure(figsize=(10, 4))\n",
        "plt.stem(harmonics, np.abs(c_xx), basefmt=\" \", linefmt=\"b-\", markerfmt=\"bo\", label=\"Desde x''(t)\")\n",
        "plt.title(\"Magnitud de cₙ desde x''(t)\")\n",
        "plt.xlabel('n')\n",
        "plt.ylabel('|cₙ|')\n",
        "plt.grid(True)\n",
        "plt.tight_layout()\n",
        "plt.show()\n",
        "\n",
        "# Fase de los coeficientes\n",
        "plt.figure(figsize=(10, 4))\n",
        "plt.stem(harmonics, np.angle(c_xx), basefmt=\" \", linefmt=\"g-\", markerfmt=\"go\")\n",
        "plt.title(\"Fase de cₙ desde x''(t)\")\n",
        "plt.xlabel('n')\n",
        "plt.ylabel('Fase [rad]')\n",
        "plt.grid(True)\n",
        "plt.tight_layout()\n",
        "plt.show()\n",
        "\n",
        "# Comparación con FFT\n",
        "plt.figure(figsize=(10, 4))\n",
        "plt.stem(harmonics, np.abs(c_fft), linefmt='r-', markerfmt='ro', basefmt=' ', label='Desde x(t) FFT')\n",
        "plt.stem(harmonics, np.abs(c_xx), linefmt='b--', markerfmt='bo', basefmt=' ', label='Desde x\\'\\'(t)')\n",
        "plt.title('Comparación |cₙ|: FFT(x) vs x\\'\\'(t)')\n",
        "plt.xlabel('n')\n",
        "plt.ylabel('|cₙ|')\n",
        "plt.legend()\n",
        "plt.grid(True)\n",
        "plt.tight_layout()\n",
        "plt.show()\n",
        "\n",
        "\n",
        "# Graficar\n",
        "plt.figure(figsize=(10,4))\n",
        "plt.plot(t_nodes, x_nodes, linewidth=1.5)\n",
        "plt.grid(True, linestyle='--', alpha=0.6)\n",
        "\n",
        "# Etiquetas y límites\n",
        "plt.xlabel('t')\n",
        "plt.ylabel('x(t)')\n",
        "plt.title('Señal triangular doble simétrica')\n",
        "plt.xticks([-T/2, -d2, -d1, 0, d1, d2, T/2],\n",
        "           [r'$-\\frac{T}{2}$', '-d2', '-d1', '0', 'd1', 'd2', r'$\\frac{T}{2}$'])\n",
        "plt.yticks([0, A], ['0', 'A'])\n",
        "plt.show()"
      ],
      "metadata": {
        "id": "IWIe4Bi73xob"
      },
      "execution_count": null,
      "outputs": []
    }
  ],
  "metadata": {
    "colab": {
      "provenance": [],
      "include_colab_link": true
    },
    "kernelspec": {
      "display_name": "Python 3",
      "name": "python3"
    }
  },
  "nbformat": 4,
  "nbformat_minor": 0
}